{
 "cells": [
  {
   "cell_type": "code",
   "execution_count": 1,
   "id": "bdb5e1ce-65a0-4817-89d6-05a1741935dc",
   "metadata": {},
   "outputs": [
    {
     "name": "stdout",
     "output_type": "stream",
     "text": [
      "✅ Ingestion Complete! Total Time Taken: 19.63 minutes\n"
     ]
    }
   ],
   "source": [
    "import pandas as pd\n",
    "import os\n",
    "from sqlalchemy import create_engine\n",
    "import logging\n",
    "import time\n",
    "\n",
    "\n",
    "os.makedirs(\"logs\", exist_ok=True)\n",
    "os.makedirs(\"data\", exist_ok=True)\n",
    "\n",
    "\n",
    "logging.basicConfig(\n",
    "    filename=\"logs/ingestion_db.log\",\n",
    "    level=logging.DEBUG,\n",
    "    format=\"%(asctime)s - %(levelname)s - %(message)s\",\n",
    "    filemode=\"a\"\n",
    ")\n",
    "\n",
    "\n",
    "engine = create_engine('sqlite:///demodb.db')\n",
    "\n",
    "def ingest_db(df, table_name, engine):\n",
    "    \"\"\"This function ingests the dataframe into a database table.\"\"\"\n",
    "    try:\n",
    "        df.to_sql(table_name, con=engine, if_exists='replace', index=False)\n",
    "        logging.info(f\"✅ Successfully ingested table: {table_name}\")\n",
    "    except Exception as e:\n",
    "        logging.error(f\"❌ Error ingesting {table_name}: {e}\")\n",
    "\n",
    "def load_raw_data():\n",
    "    \"\"\"This function loads CSVs as dataframes and ingests them into the database.\"\"\"\n",
    "    start = time.time()\n",
    "    csv_files = [f for f in os.listdir('data') if f.endswith('.csv')]\n",
    "\n",
    "    if not csv_files:\n",
    "        logging.warning(\"⚠️ No CSV files found in 'data' folder.\")\n",
    "        print(\"No CSV files found in 'data' folder.\")\n",
    "        return\n",
    "\n",
    "    for file in csv_files:\n",
    "        try:\n",
    "            file_path = os.path.join('data', file)\n",
    "            df = pd.read_csv(file_path)\n",
    "            logging.info(f\"Ingesting {file} into database.\")\n",
    "            ingest_db(df, file[:-4], engine)\n",
    "        except Exception as e:\n",
    "            logging.error(f\"❌ Error processing {file}: {e}\")\n",
    "\n",
    "    end = time.time()\n",
    "    total_time = round((end - start) / 60, 2)\n",
    "    logging.info('--------------- Ingestion Complete ---------------')\n",
    "    logging.info(f'Total Time Taken: {total_time} minutes')\n",
    "    print(f\"✅ Ingestion Complete! Total Time Taken: {total_time} minutes\")\n",
    "\n",
    "if __name__ == \"__main__\":\n",
    "    load_raw_data()\n"
   ]
  },
  {
   "cell_type": "code",
   "execution_count": null,
   "id": "567414b8-7d11-4bc4-9470-f787e450ef9c",
   "metadata": {},
   "outputs": [],
   "source": []
  }
 ],
 "metadata": {
  "kernelspec": {
   "display_name": "Python 3 (ipykernel)",
   "language": "python",
   "name": "python3"
  },
  "language_info": {
   "codemirror_mode": {
    "name": "ipython",
    "version": 3
   },
   "file_extension": ".py",
   "mimetype": "text/x-python",
   "name": "python",
   "nbconvert_exporter": "python",
   "pygments_lexer": "ipython3",
   "version": "3.12.7"
  }
 },
 "nbformat": 4,
 "nbformat_minor": 5
}
