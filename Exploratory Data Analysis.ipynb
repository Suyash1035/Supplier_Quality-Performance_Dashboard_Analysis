{
 "cells": [
  {
   "cell_type": "markdown",
   "id": "e0fac19c-e084-4ac5-ab44-296697e172a3",
   "metadata": {},
   "source": [
    "# Exploratory data Analysis\n",
    "\n",
    "Understanding the dataset to explore how the data is prestent in the dataset and if there is a need of creating some aggregated tabels that can help with:\n",
    "* Vendor selection for profitability\n",
    "* Product Pricing Optimazation"
   ]
  },
  {
   "cell_type": "code",
   "execution_count": 8,
   "id": "20cbd31c-49f8-49f7-9f09-9f643f1410e4",
   "metadata": {},
   "outputs": [],
   "source": [
    "import pandas as pd\n",
    "import sqlite3\n"
   ]
  },
  {
   "cell_type": "code",
   "execution_count": 9,
   "id": "399874e0-9473-46d3-96fc-68214b09988b",
   "metadata": {},
   "outputs": [],
   "source": [
    "conn = sqlite3.connect(\"inventory.db\")"
   ]
  },
  {
   "cell_type": "code",
   "execution_count": 10,
   "id": "664fb48b-9d84-48a0-8fe2-c1f0d85dcc55",
   "metadata": {},
   "outputs": [
    {
     "data": {
      "text/html": [
       "<div>\n",
       "<style scoped>\n",
       "    .dataframe tbody tr th:only-of-type {\n",
       "        vertical-align: middle;\n",
       "    }\n",
       "\n",
       "    .dataframe tbody tr th {\n",
       "        vertical-align: top;\n",
       "    }\n",
       "\n",
       "    .dataframe thead th {\n",
       "        text-align: right;\n",
       "    }\n",
       "</style>\n",
       "<table border=\"1\" class=\"dataframe\">\n",
       "  <thead>\n",
       "    <tr style=\"text-align: right;\">\n",
       "      <th></th>\n",
       "      <th>name</th>\n",
       "    </tr>\n",
       "  </thead>\n",
       "  <tbody>\n",
       "  </tbody>\n",
       "</table>\n",
       "</div>"
      ],
      "text/plain": [
       "Empty DataFrame\n",
       "Columns: [name]\n",
       "Index: []"
      ]
     },
     "metadata": {},
     "output_type": "display_data"
    }
   ],
   "source": [
    "tables = pd.read_sql_query(\"SELECT name FROM sqlite_master WHERE type='table'\", conn)\n",
    "display(tables)"
   ]
  },
  {
   "cell_type": "code",
   "execution_count": 13,
   "id": "2e655a28-bfc9-450a-a570-ecc7d1a7afa4",
   "metadata": {},
   "outputs": [],
   "source": [
    "for table in tables['name']:\n",
    "    print('-' * 50, f'{table}', '-' * 50)\n",
    "    count_query = f\"SELECT COUNT(*) AS count FROM {table}\"\n",
    "    count = pd.read_sql(count_query, conn)['count'].values[0]\n",
    "    print(f'Count of records: {count}')\n",
    "    df_sample = pd.read_sql(f\"SELECT * FROM {table} LIMIT 5\", conn)\n",
    "    display(df_sample)\n",
    "\n"
   ]
  },
  {
   "cell_type": "code",
   "execution_count": null,
   "id": "dd4349c8-451f-4a1a-aa0f-4e5d53451b67",
   "metadata": {},
   "outputs": [],
   "source": []
  }
 ],
 "metadata": {
  "kernelspec": {
   "display_name": "Python 3 (ipykernel)",
   "language": "python",
   "name": "python3"
  },
  "language_info": {
   "codemirror_mode": {
    "name": "ipython",
    "version": 3
   },
   "file_extension": ".py",
   "mimetype": "text/x-python",
   "name": "python",
   "nbconvert_exporter": "python",
   "pygments_lexer": "ipython3",
   "version": "3.12.7"
  }
 },
 "nbformat": 4,
 "nbformat_minor": 5
}
