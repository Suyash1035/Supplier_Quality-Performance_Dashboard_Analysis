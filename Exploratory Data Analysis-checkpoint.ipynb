{
 "cells": [
  {
   "cell_type": "markdown",
   "id": "e0fac19c-e084-4ac5-ab44-296697e172a3",
   "metadata": {},
   "source": [
    "# Exploratory data Analysis\n",
    "\n",
    "Understanding the dataset to explore how the data is prestent in the dataset and if there is a need of creating some aggregated tabels that can help with:\n",
    "* Vendor selection for profitability\n",
    "* Product Pricing Optimazation"
   ]
  },
  {
   "cell_type": "code",
   "execution_count": 1,
   "id": "20cbd31c-49f8-49f7-9f09-9f643f1410e4",
   "metadata": {},
   "outputs": [],
   "source": [
    "import pandas as pd\n",
    "import sqlite3"
   ]
  },
  {
   "cell_type": "code",
   "execution_count": 3,
   "id": "399874e0-9473-46d3-96fc-68214b09988b",
   "metadata": {},
   "outputs": [
    {
     "ename": "SyntaxError",
     "evalue": "incomplete input (1104940103.py, line 1)",
     "output_type": "error",
     "traceback": [
      "  \u001b[36mCell\u001b[39m\u001b[36m \u001b[39m\u001b[32mIn[3]\u001b[39m\u001b[32m, line 1\u001b[39m\n\u001b[31m    \u001b[39m\u001b[31mconn = sqlite3.connect('inventory.db)'\u001b[39m\n                                          ^\n\u001b[31mSyntaxError\u001b[39m\u001b[31m:\u001b[39m incomplete input\n"
     ]
    }
   ],
   "source": [
    "conn = sqlite3.connect('inventory.db)'"
   ]
  },
  {
   "cell_type": "code",
   "execution_count": 4,
   "id": "664fb48b-9d84-48a0-8fe2-c1f0d85dcc55",
   "metadata": {},
   "outputs": [
    {
     "ename": "NameError",
     "evalue": "name 'conn' is not defined",
     "output_type": "error",
     "traceback": [
      "\u001b[31m---------------------------------------------------------------------------\u001b[39m",
      "\u001b[31mNameError\u001b[39m                                 Traceback (most recent call last)",
      "\u001b[36mCell\u001b[39m\u001b[36m \u001b[39m\u001b[32mIn[4]\u001b[39m\u001b[32m, line 1\u001b[39m\n\u001b[32m----> \u001b[39m\u001b[32m1\u001b[39m tables = pd.read_sql_query(\u001b[33m\"\u001b[39m\u001b[33mSELECT name FROM sqlite_master WHERE type=\u001b[39m\u001b[33m'\u001b[39m\u001b[33mtable\u001b[39m\u001b[33m'\u001b[39m\u001b[33m\"\u001b[39m,\u001b[43mconn\u001b[49m)\n\u001b[32m      2\u001b[39m tables\n",
      "\u001b[31mNameError\u001b[39m: name 'conn' is not defined"
     ]
    }
   ],
   "source": [
    "tables = pd.read_sql_query(\"SELECT name FROM sqlite_master WHERE type='table'\",conn)\n",
    "tables"
   ]
  },
  {
   "cell_type": "code",
   "execution_count": 7,
   "id": "2e655a28-bfc9-450a-a570-ecc7d1a7afa4",
   "metadata": {},
   "outputs": [
    {
     "ename": "NameError",
     "evalue": "name 'tables' is not defined",
     "output_type": "error",
     "traceback": [
      "\u001b[31m---------------------------------------------------------------------------\u001b[39m",
      "\u001b[31mNameError\u001b[39m                                 Traceback (most recent call last)",
      "\u001b[36mCell\u001b[39m\u001b[36m \u001b[39m\u001b[32mIn[7]\u001b[39m\u001b[32m, line 1\u001b[39m\n\u001b[32m----> \u001b[39m\u001b[32m1\u001b[39m \u001b[38;5;28;01mfor\u001b[39;00m table \u001b[38;5;129;01min\u001b[39;00m \u001b[43mtables\u001b[49m[\u001b[33m'\u001b[39m\u001b[33mname\u001b[39m\u001b[33m'\u001b[39m]:\n\u001b[32m      2\u001b[39m     \u001b[38;5;28mprint\u001b[39m(\u001b[33m'\u001b[39m\u001b[33m-\u001b[39m\u001b[33m'\u001b[39m*\u001b[32m50\u001b[39m, \u001b[33mf\u001b[39m\u001b[33m'\u001b[39m\u001b[38;5;132;01m{\u001b[39;00mtable\u001b[38;5;132;01m}\u001b[39;00m\u001b[33m'\u001b[39m,\u001b[33m'\u001b[39m\u001b[33m-\u001b[39m\u001b[33m'\u001b[39m*\u001b[32m50\u001b[39m)\n\u001b[32m      3\u001b[39m     \u001b[38;5;28mprint\u001b[39m(\u001b[33m'\u001b[39m\u001b[33mCount of records:\u001b[39m\u001b[33m'\u001b[39m, pd.read_sql(\u001b[33mf\u001b[39m\u001b[33m\"\u001b[39m\u001b[33mselect count(*) as count from \u001b[39m\u001b[38;5;132;01m{\u001b[39;00mtable\u001b[38;5;132;01m}\u001b[39;00m\u001b[33m\"\u001b[39m, conn)[\u001b[33m'\u001b[39m\u001b[33mcount\u001b[39m\u001b[33m'\u001b[39m].value[\u001b[32m0\u001b[39m])\n",
      "\u001b[31mNameError\u001b[39m: name 'tables' is not defined"
     ]
    }
   ],
   "source": [
    "for table in tables['name']:\n",
    "    print('-'*50, f'{table}','-'*50)\n",
    "    print('Count of records:', pd.read_sql(f\"select count(*) as count from {table}\", conn)['count'].value[0])\n",
    "    display(pd.read_sql(f\"select * from {table} limit 5\", conn))"
   ]
  },
  {
   "cell_type": "code",
   "execution_count": null,
   "id": "8f4ccd45-b1d3-4ac9-9f31-4c4b9fdfdee0",
   "metadata": {},
   "outputs": [],
   "source": [
    "import pandas as pd\n",
    "import sqlite3\n",
    "\n",
    "for table in tables['name']:\n",
    "    print('-'*50, f'{table}','-'*50)\n",
    "    print('Count of records:', pd.read_sql(f\"select count(*) as count from {table}\", conn)['count'].value[0])\n",
    "    display(pd.read_sql(f\"select * from {table} limit 5\", conn))"
   ]
  }
 ],
 "metadata": {
  "kernelspec": {
   "display_name": "Python 3 (ipykernel)",
   "language": "python",
   "name": "python3"
  },
  "language_info": {
   "codemirror_mode": {
    "name": "ipython",
    "version": 3
   },
   "file_extension": ".py",
   "mimetype": "text/x-python",
   "name": "python",
   "nbconvert_exporter": "python",
   "pygments_lexer": "ipython3",
   "version": "3.12.7"
  }
 },
 "nbformat": 4,
 "nbformat_minor": 5
}
